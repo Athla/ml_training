{
 "cells": [
  {
   "cell_type": "code",
   "execution_count": 1,
   "metadata": {},
   "outputs": [],
   "source": [
    "import pandas  as pd\n",
    "import matplotlib.pyplot as plt\n",
    "import numpy as np\n",
    "from sklearn.linear_model import LogisticRegression\n",
    "from sklearn.preprocessing import StandardScaler\n",
    "from sklearn.metrics import confusion_matrix, classification_report"
   ]
  },
  {
   "attachments": {},
   "cell_type": "markdown",
   "metadata": {},
   "source": [
    "# Unbalanced Prediction"
   ]
  },
  {
   "cell_type": "code",
   "execution_count": 2,
   "metadata": {},
   "outputs": [
    {
     "name": "stdout",
     "output_type": "stream",
     "text": [
      "<bound method DataFrame.info of         UDI Product ID Type  Air temperature [K]  Process temperature [K]  \\\n",
      "0         1     M14860    M                298.1                    308.6   \n",
      "1         2     L47181    L                298.2                    308.7   \n",
      "2         3     L47182    L                298.1                    308.5   \n",
      "3         4     L47183    L                298.2                    308.6   \n",
      "4         5     L47184    L                298.2                    308.7   \n",
      "...     ...        ...  ...                  ...                      ...   \n",
      "9995   9996     M24855    M                298.8                    308.4   \n",
      "9996   9997     H39410    H                298.9                    308.4   \n",
      "9997   9998     M24857    M                299.0                    308.6   \n",
      "9998   9999     H39412    H                299.0                    308.7   \n",
      "9999  10000     M24859    M                299.0                    308.7   \n",
      "\n",
      "      Rotational speed [rpm]  Torque [Nm]  Tool wear [min]  Target  \\\n",
      "0                       1551         42.8                0       0   \n",
      "1                       1408         46.3                3       0   \n",
      "2                       1498         49.4                5       0   \n",
      "3                       1433         39.5                7       0   \n",
      "4                       1408         40.0                9       0   \n",
      "...                      ...          ...              ...     ...   \n",
      "9995                    1604         29.5               14       0   \n",
      "9996                    1632         31.8               17       0   \n",
      "9997                    1645         33.4               22       0   \n",
      "9998                    1408         48.5               25       0   \n",
      "9999                    1500         40.2               30       0   \n",
      "\n",
      "     Failure Type  \n",
      "0      No Failure  \n",
      "1      No Failure  \n",
      "2      No Failure  \n",
      "3      No Failure  \n",
      "4      No Failure  \n",
      "...           ...  \n",
      "9995   No Failure  \n",
      "9996   No Failure  \n",
      "9997   No Failure  \n",
      "9998   No Failure  \n",
      "9999   No Failure  \n",
      "\n",
      "[10000 rows x 10 columns]>\n"
     ]
    }
   ],
   "source": [
    "data = pd.read_csv('src/predictive_maintenance.csv')\n",
    "print(data.info)"
   ]
  },
  {
   "cell_type": "code",
   "execution_count": 3,
   "metadata": {},
   "outputs": [
    {
     "name": "stdout",
     "output_type": "stream",
     "text": [
      "target\n",
      "0    9661\n",
      "1     339\n",
      "Name: count, dtype: int64\n"
     ]
    }
   ],
   "source": [
    "new_labels = ['uid', 'prod_id', 'prod_type', 'air_temp', 'process_temp', 'rot_speed', 'torque', 'tool_wear', 'target', 'failure_type']\n",
    "\n",
    "data.columns = new_labels\n",
    "X = data[['torque','process_temp','tool_wear']]\n",
    "y = data['target']\n",
    "print(y.value_counts())"
   ]
  },
  {
   "cell_type": "code",
   "execution_count": 4,
   "metadata": {},
   "outputs": [
    {
     "name": "stdout",
     "output_type": "stream",
     "text": [
      "(7000, 3) (3000, 3) (7000,) (3000,)\n"
     ]
    }
   ],
   "source": [
    "from sklearn.model_selection import train_test_split\n",
    "\n",
    "# Dividindo os dados em treino e teste\n",
    "X_train, X_test, y_train, y_test = train_test_split(X, y, test_size=0.3, random_state=123)\n",
    "\n",
    "# Visualizando o shape dos dados\n",
    "print(X_train.shape, X_test.shape, y_train.shape, y_test.shape)\n"
   ]
  },
  {
   "cell_type": "code",
   "execution_count": 5,
   "metadata": {},
   "outputs": [
    {
     "name": "stdout",
     "output_type": "stream",
     "text": [
      "              precision    recall  f1-score   support\n",
      "\n",
      "           0       0.96      1.00      0.98      2895\n",
      "           1       0.00      0.00      0.00       105\n",
      "\n",
      "    accuracy                           0.96      3000\n",
      "   macro avg       0.48      0.50      0.49      3000\n",
      "weighted avg       0.93      0.96      0.95      3000\n",
      "\n"
     ]
    },
    {
     "name": "stderr",
     "output_type": "stream",
     "text": [
      "c:\\Users\\guilh\\Downloads\\ml_tcc-20230826T003817Z-001\\ml_tcc\\venv\\Lib\\site-packages\\sklearn\\metrics\\_classification.py:1469: UndefinedMetricWarning: Precision and F-score are ill-defined and being set to 0.0 in labels with no predicted samples. Use `zero_division` parameter to control this behavior.\n",
      "  _warn_prf(average, modifier, msg_start, len(result))\n",
      "c:\\Users\\guilh\\Downloads\\ml_tcc-20230826T003817Z-001\\ml_tcc\\venv\\Lib\\site-packages\\sklearn\\metrics\\_classification.py:1469: UndefinedMetricWarning: Precision and F-score are ill-defined and being set to 0.0 in labels with no predicted samples. Use `zero_division` parameter to control this behavior.\n",
      "  _warn_prf(average, modifier, msg_start, len(result))\n",
      "c:\\Users\\guilh\\Downloads\\ml_tcc-20230826T003817Z-001\\ml_tcc\\venv\\Lib\\site-packages\\sklearn\\metrics\\_classification.py:1469: UndefinedMetricWarning: Precision and F-score are ill-defined and being set to 0.0 in labels with no predicted samples. Use `zero_division` parameter to control this behavior.\n",
      "  _warn_prf(average, modifier, msg_start, len(result))\n"
     ]
    }
   ],
   "source": [
    "# Treinando modelo sem balanceamento de classes\n",
    "from sklearn.linear_model import LogisticRegression\n",
    "\n",
    "lr = LogisticRegression()\n",
    "lr.fit(X_train, y_train.ravel())\n",
    "\n",
    "predictions = lr.predict(X_test)\n",
    "\n",
    "print(classification_report(y_test, predictions))"
   ]
  },
  {
   "attachments": {},
   "cell_type": "markdown",
   "metadata": {},
   "source": [
    "# NEAR MISS"
   ]
  },
  {
   "cell_type": "code",
   "execution_count": 6,
   "metadata": {},
   "outputs": [
    {
     "name": "stdout",
     "output_type": "stream",
     "text": [
      "Antes da redução de dimensionalidade -> Falha: 234\n",
      "Antes da redução de dimensionalidade -> Não falha: 6766\n",
      "Depois da redução de dimensionalidade -> Falha: 234\n",
      "Depois da redução de dimensionalidade -> Não falha: 234\n"
     ]
    }
   ],
   "source": [
    "# Antes da redução de dimensionalidade\n",
    "\n",
    "print(f\"Antes da redução de dimensionalidade -> Falha: {sum(y_train ==1)}\")\n",
    "print(f\"Antes da redução de dimensionalidade -> Não falha: {sum(y_train == 0)}\")\n",
    "\n",
    "# Aplicando o NearMiss\n",
    "from imblearn.under_sampling import NearMiss\n",
    "\n",
    "nr = NearMiss()\n",
    "\n",
    "X_train_miss, y_train_miss = nr.fit_resample(X_train, y_train.ravel())\n",
    "\n",
    "print(f\"Depois da redução de dimensionalidade -> Falha: {sum(y_train_miss ==1)}\")\n",
    "\n",
    "print(f\"Depois da redução de dimensionalidade -> Não falha: {sum(y_train_miss == 0)}\")"
   ]
  },
  {
   "cell_type": "code",
   "execution_count": 7,
   "metadata": {},
   "outputs": [
    {
     "name": "stdout",
     "output_type": "stream",
     "text": [
      "              precision    recall  f1-score   support\n",
      "\n",
      "           0       0.98      0.69      0.81      2895\n",
      "           1       0.06      0.52      0.10       105\n",
      "\n",
      "    accuracy                           0.68      3000\n",
      "   macro avg       0.52      0.61      0.45      3000\n",
      "weighted avg       0.94      0.68      0.78      3000\n",
      "\n"
     ]
    }
   ],
   "source": [
    "# Verificando resultados do NearMiss\n",
    "\n",
    "lr2 = LogisticRegression()\n",
    "lr2.fit(X_train_miss, y_train_miss.ravel())\n",
    "\n",
    "predictions = lr2.predict(X_test)\n",
    "\n",
    "print(classification_report(y_test, predictions))"
   ]
  },
  {
   "attachments": {},
   "cell_type": "markdown",
   "metadata": {},
   "source": [
    "# SMOTE"
   ]
  },
  {
   "cell_type": "code",
   "execution_count": 8,
   "metadata": {},
   "outputs": [
    {
     "name": "stdout",
     "output_type": "stream",
     "text": [
      "Antes da superamostragem: Não Falha: 6766\n",
      "Antes da superamostragem: Falha: 234\n",
      "\n",
      "Depois da superamostragem: Não Falha: 6766\n",
      "Depois da superamostragem: Falha: 6766\n",
      "\n"
     ]
    }
   ],
   "source": [
    "# Aplicando SMOTE para balancear os dados\n",
    "# Criando superamostragem\n",
    "\n",
    "print(f\"Antes da superamostragem: Não Falha: {sum(y_train == 0)}\")\n",
    "print(f\"Antes da superamostragem: Falha: {sum(y_train == 1)}\\n\")\n",
    "\n",
    "# Aplicando Superamostragem\n",
    "\n",
    "from imblearn.over_sampling import SMOTE\n",
    "\n",
    "sm= SMOTE(random_state=2)\n",
    "\n",
    "X_train_sm, y_train_sm = sm.fit_resample(X_train, y_train)\n",
    "\n",
    "print(f\"Depois da superamostragem: Não Falha: {sum(y_train_sm == 0)}\")\t\n",
    "print(f\"Depois da superamostragem: Falha: {sum(y_train_sm == 1)}\\n\")\n"
   ]
  },
  {
   "cell_type": "code",
   "execution_count": 9,
   "metadata": {},
   "outputs": [
    {
     "name": "stdout",
     "output_type": "stream",
     "text": [
      "              precision    recall  f1-score   support\n",
      "\n",
      "           0       0.99      0.72      0.83      2895\n",
      "           1       0.09      0.80      0.17       105\n",
      "\n",
      "    accuracy                           0.72      3000\n",
      "   macro avg       0.54      0.76      0.50      3000\n",
      "weighted avg       0.96      0.72      0.81      3000\n",
      "\n"
     ]
    }
   ],
   "source": [
    "# Criando regressao e verificando desempenho com SMOTE\n",
    "\n",
    "lr1 =  LogisticRegression()\n",
    "\n",
    "lr1.fit(X_train_sm, y_train_sm)\n",
    "\n",
    "predictions = lr1.predict(X_test)\n",
    "\n",
    "print(classification_report(y_test, predictions))"
   ]
  }
 ],
 "metadata": {
  "kernelspec": {
   "display_name": "venv",
   "language": "python",
   "name": "python3"
  },
  "language_info": {
   "codemirror_mode": {
    "name": "ipython",
    "version": 3
   },
   "file_extension": ".py",
   "mimetype": "text/x-python",
   "name": "python",
   "nbconvert_exporter": "python",
   "pygments_lexer": "ipython3",
   "version": "3.11.5"
  },
  "orig_nbformat": 4
 },
 "nbformat": 4,
 "nbformat_minor": 2
}
