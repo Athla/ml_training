{
 "cells": [
  {
   "cell_type": "code",
   "execution_count": 14,
   "metadata": {},
   "outputs": [],
   "source": [
    "import pandas  as pd\n",
    "import matplotlib.pyplot as plt\n",
    "import numpy as np\n",
    "from sklearn.linear_model import LogisticRegression\n",
    "from sklearn.preprocessing import StandardScaler\n",
    "from sklearn.metrics import confusion_matrix, classification_report"
   ]
  },
  {
   "attachments": {},
   "cell_type": "markdown",
   "metadata": {},
   "source": [
    "# Unbalanced Prediction"
   ]
  },
  {
   "cell_type": "code",
   "execution_count": null,
   "metadata": {},
   "outputs": [],
   "source": [
    "data = pd.read_csv('src/predictive_maintenance.csv')\n",
    "print(data.info)"
   ]
  },
  {
   "cell_type": "code",
   "execution_count": 16,
   "metadata": {},
   "outputs": [
    {
     "name": "stdout",
     "output_type": "stream",
     "text": [
      "target\n",
      "0    9661\n",
      "1     339\n",
      "Name: count, dtype: int64\n"
     ]
    }
   ],
   "source": [
    "new_labels = ['uid', 'prod_id', 'prod_type', 'air_temp', 'process_temp', 'rot_speed', 'torque', 'tool_wear', 'target', 'failure_type']\n",
    "\n",
    "data.columns = new_labels\n",
    "X = data[['torque','process_temp','tool_wear', \"air_temp\", \"rot_speed\"]]\n",
    "y = data['target']\n",
    "print(y.value_counts())"
   ]
  },
  {
   "cell_type": "code",
   "execution_count": 18,
   "metadata": {},
   "outputs": [
    {
     "name": "stdout",
     "output_type": "stream",
     "text": [
      "(7000, 5) (3000, 5) (7000,) (3000,)\n"
     ]
    }
   ],
   "source": [
    "from sklearn.model_selection import train_test_split\n",
    "\n",
    "# Dividindo os dados em treino e teste\n",
    "X_train, X_test, y_train, y_test = train_test_split(X, y, test_size=0.3, random_state=42)\n",
    "\n",
    "# Visualizando o shape dos dados\n",
    "print(X_train.shape, X_test.shape, y_train.shape, y_test.shape)\n"
   ]
  },
  {
   "cell_type": "code",
   "execution_count": 19,
   "metadata": {},
   "outputs": [
    {
     "name": "stdout",
     "output_type": "stream",
     "text": [
      "              precision    recall  f1-score   support\n",
      "\n",
      "           0       0.98      1.00      0.99      2907\n",
      "           1       0.69      0.27      0.39        93\n",
      "\n",
      "    accuracy                           0.97      3000\n",
      "   macro avg       0.84      0.63      0.69      3000\n",
      "weighted avg       0.97      0.97      0.97      3000\n",
      "\n"
     ]
    }
   ],
   "source": [
    "# Treinando modelo sem balanceamento de classes\n",
    "from sklearn.linear_model import LogisticRegression\n",
    "\n",
    "lr = LogisticRegression()\n",
    "lr.fit(X_train, y_train.ravel())\n",
    "\n",
    "predictions = lr.predict(X_test)\n",
    "\n",
    "print(classification_report(y_test, predictions))"
   ]
  },
  {
   "cell_type": "code",
   "execution_count": null,
   "metadata": {},
   "outputs": [],
   "source": []
  },
  {
   "attachments": {},
   "cell_type": "markdown",
   "metadata": {},
   "source": [
    "# NEAR MISS $\\to$ Redução de Dimensionalidade\n"
   ]
  },
  {
   "cell_type": "code",
   "execution_count": 20,
   "metadata": {},
   "outputs": [
    {
     "name": "stdout",
     "output_type": "stream",
     "text": [
      "Antes da redução de dimensionalidade -> Falha: 246\n",
      "Antes da redução de dimensionalidade -> Não falha: 6754\n",
      "Depois da redução de dimensionalidade -> Falha: 246\n",
      "Depois da redução de dimensionalidade -> Não falha: 246\n"
     ]
    }
   ],
   "source": [
    "# Antes da redução de dimensionalidade\n",
    "\n",
    "print(f\"Antes da redução de dimensionalidade -> Falha: {sum(y_train ==1)}\")\n",
    "print(f\"Antes da redução de dimensionalidade -> Não falha: {sum(y_train == 0)}\")\n",
    "\n",
    "# Aplicando o NearMiss\n",
    "from imblearn.under_sampling import NearMiss\n",
    "\n",
    "nr = NearMiss()\n",
    "\n",
    "X_train_miss, y_train_miss = nr.fit_resample(X_train, y_train.ravel())\n",
    "\n",
    "print(f\"Depois da redução de dimensionalidade -> Falha: {sum(y_train_miss ==1)}\")\n",
    "\n",
    "print(f\"Depois da redução de dimensionalidade -> Não falha: {sum(y_train_miss == 0)}\")"
   ]
  },
  {
   "cell_type": "code",
   "execution_count": 21,
   "metadata": {},
   "outputs": [
    {
     "name": "stdout",
     "output_type": "stream",
     "text": [
      "              precision    recall  f1-score   support\n",
      "\n",
      "           0       0.99      0.65      0.79      2907\n",
      "           1       0.06      0.72      0.11        93\n",
      "\n",
      "    accuracy                           0.66      3000\n",
      "   macro avg       0.52      0.69      0.45      3000\n",
      "weighted avg       0.96      0.66      0.77      3000\n",
      "\n"
     ]
    }
   ],
   "source": [
    "# Verificando resultados do NearMiss\n",
    "\n",
    "lr2 = LogisticRegression()\n",
    "lr2.fit(X_train_miss, y_train_miss.ravel())\n",
    "\n",
    "predictions = lr2.predict(X_test)\n",
    "\n",
    "print(classification_report(y_test, predictions))"
   ]
  },
  {
   "attachments": {},
   "cell_type": "markdown",
   "metadata": {},
   "source": [
    "# SMOTE"
   ]
  },
  {
   "cell_type": "code",
   "execution_count": 22,
   "metadata": {},
   "outputs": [
    {
     "name": "stdout",
     "output_type": "stream",
     "text": [
      "Antes da superamostragem: Não Falha: 6754\n",
      "Antes da superamostragem: Falha: 246\n",
      "\n",
      "Depois da superamostragem: Não Falha: 6754\n",
      "Depois da superamostragem: Falha: 6754\n",
      "\n"
     ]
    }
   ],
   "source": [
    "# Aplicando SMOTE para balancear os dados\n",
    "# Criando superamostragem\n",
    "\n",
    "print(f\"Antes da superamostragem: Não Falha: {sum(y_train == 0)}\")\n",
    "print(f\"Antes da superamostragem: Falha: {sum(y_train == 1)}\\n\")\n",
    "\n",
    "# Aplicando Superamostragem\n",
    "\n",
    "from imblearn.over_sampling import SMOTE\n",
    "\n",
    "sm= SMOTE(random_state=2)\n",
    "\n",
    "X_train_sm, y_train_sm = sm.fit_resample(X_train, y_train)\n",
    "\n",
    "print(f\"Depois da superamostragem: Não Falha: {sum(y_train_sm == 0)}\")\t\n",
    "print(f\"Depois da superamostragem: Falha: {sum(y_train_sm == 1)}\\n\")\n"
   ]
  },
  {
   "cell_type": "code",
   "execution_count": 23,
   "metadata": {},
   "outputs": [
    {
     "name": "stdout",
     "output_type": "stream",
     "text": [
      "              precision    recall  f1-score   support\n",
      "\n",
      "           0       0.99      0.83      0.91      2907\n",
      "           1       0.14      0.83      0.24        93\n",
      "\n",
      "    accuracy                           0.83      3000\n",
      "   macro avg       0.57      0.83      0.57      3000\n",
      "weighted avg       0.97      0.83      0.89      3000\n",
      "\n"
     ]
    }
   ],
   "source": [
    "# Criando regressao e verificando desempenho com SMOTE\n",
    "\n",
    "lr1 =  LogisticRegression()\n",
    "\n",
    "lr1.fit(X_train_sm, y_train_sm)\n",
    "\n",
    "predictions = lr1.predict(X_test)\n",
    "\n",
    "print(classification_report(y_test, predictions))"
   ]
  },
  {
   "cell_type": "markdown",
   "metadata": {},
   "source": [
    "## Montando Rede Neural $\\to$ 4 Camadas [Input, ReLU, Sigmoid, Output]"
   ]
  },
  {
   "cell_type": "code",
   "execution_count": null,
   "metadata": {},
   "outputs": [],
   "source": [
    "\"\"\"\n",
    "Necessary imports to create neural network\n",
    "\"\"\"\n",
    "\n",
    "import tensorflow as tf\n",
    "from tensorflow import keras\n",
    "from tensorflow.keras import Sequential\n",
    "from tensorflow.keras.layers import Dense"
   ]
  },
  {
   "cell_type": "code",
   "execution_count": null,
   "metadata": {},
   "outputs": [],
   "source": [
    "model = Sequential([\n",
    "    # Input layer\n",
    "    Dense(units= )\n",
    "\n",
    "])"
   ]
  }
 ],
 "metadata": {
  "kernelspec": {
   "display_name": "venv",
   "language": "python",
   "name": "python3"
  },
  "language_info": {
   "codemirror_mode": {
    "name": "ipython",
    "version": 3
   },
   "file_extension": ".py",
   "mimetype": "text/x-python",
   "name": "python",
   "nbconvert_exporter": "python",
   "pygments_lexer": "ipython3",
   "version": "3.10.12"
  },
  "orig_nbformat": 4
 },
 "nbformat": 4,
 "nbformat_minor": 2
}
